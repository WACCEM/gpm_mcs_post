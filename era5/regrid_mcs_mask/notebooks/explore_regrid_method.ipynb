{
 "cells": [
  {
   "cell_type": "markdown",
   "id": "bc7d24fc-a166-4b0e-a2d1-e3df0d748fff",
   "metadata": {},
   "source": [
    "# Regrid 0.1-degree PyFLEXTRKR MCS Tracking Datasets to 0.25-degree\n",
    "Here we use NCO-ncremap to regrid PyFLEXTR to coaser resolution for (1) ESM model evaluation (2) reduce the data size. <br>\n",
    "\n",
    "## 1. Create grid file\n",
    "\n",
    "Original MCS datasets is 1200x3600 <br>\n",
    ">lat : -59.95 to 59.95 by 0.1 <br>\n",
    ">lon : -179.95 to 179.95 by 0.1<br>\n",
    "\n",
    "And we are now upscaling them to 481x1440 <br>\n",
    ">lat : 60 to -60 by -0.25 <br>\n",
    ">lon : -180.0 to 179.75 by 0.25 <br>"
   ]
  },
  {
   "cell_type": "raw",
   "id": "d4faf1be-ac21-4191-be5a-1a3e44e07825",
   "metadata": {
    "tags": []
   },
   "source": [
    "ncremap -7 --dfl_lvl=1 -G ttl='0.25x0.25 degree, dimensions 481x1440, cell centers on Equator (in north-to-south order) and 0 degree longitude line'#latlon=481,1440#lat_drc=n2s#snwe=-60.0,60.0,-180.0,179.75#lat_typ=cap#lon_typ=grn_ctr \\\n",
    "        -g ./grids_481x1440.nc"
   ]
  },
  {
   "cell_type": "markdown",
   "id": "c01e42f3-95c2-4ea4-8de6-51532f3f0816",
   "metadata": {},
   "source": [
    "Note that the destination grid is slightly different from ERA-I resolution 721x1440, which is <br>\n",
    ">longitude : 0 to 359.75 by 0.25 <br>\n",
    ">latitude : 90 to -90 by -0.25 <br>"
   ]
  },
  {
   "cell_type": "code",
   "execution_count": null,
   "id": "d9cccd1d-a0a6-4ba0-b11f-cf0d400e4837",
   "metadata": {},
   "outputs": [],
   "source": [
    "ncremap -7 --dfl_lvl=1 -G ttl='Regrional grid 0.25x0.25 degree, dimensions 481x1440'\\\n",
    "#latlon=481,1440#lat_drc=n2s#lat_sth=-60.0#lat_nrt=60.0#lat_typ=cap\\\n",
    "#lon_typ=180_ctr \\\n",
    "-g grids_481x1440.nc"
   ]
  },
  {
   "cell_type": "code",
   "execution_count": 16,
   "id": "73295948-148c-4e29-a1dc-5a2a08af9302",
   "metadata": {},
   "outputs": [
    {
     "name": "stdout",
     "output_type": "stream",
     "text": [
      "[ 0.    0.25  0.5  ... -0.75 -0.5  -0.25]\n",
      "[-180.   -179.75 -179.5  ...  179.25  179.5   179.75]\n"
     ]
    }
   ],
   "source": [
    "## double check assign regridded coordinate\n",
    "\n",
    "import numpy as np\n",
    "# ERA5 grid\n",
    "ERA_lon = np.arange( 0, 360, 0.25, dtype= \"float\")\n",
    "# reformat ERA5 grid to -180\n",
    "ERA_lon_rf = np.where(ERA_lon>=180, ERA_lon-360, ERA_lon)\n",
    "print(ERA_lon_rf)\n",
    "regrid_lon = ERA_lon\n",
    "\n",
    "regrid_lon[:720] = ERA_lon_rf[720:]\n",
    "regrid_lon[720:] = ERA_lon_rf[:720]\n",
    "print(regrid_lon)"
   ]
  },
  {
   "cell_type": "markdown",
   "id": "199acfed-e7b0-44cb-be35-d786935a59ef",
   "metadata": {},
   "source": [
    "## 2. Regrid one sample data\n",
    "### 2.1 Regrid \"precipitation\" with 1st conservative method\n",
    "This take a while"
   ]
  },
  {
   "cell_type": "raw",
   "id": "20de4d81-3e23-4b7b-86d2-05880c485d83",
   "metadata": {},
   "source": [
    "ncremap -v precipitation --alg_typ=conserve -g ./grids_481x1440.nc \\\n",
    "./mcstrack_20001020_0530.nc precp-025_20001020_0530.nc"
   ]
  },
  {
   "cell_type": "markdown",
   "id": "a6d7c220-8ea4-489c-8264-7367a861b5a9",
   "metadata": {},
   "source": [
    "### 2.2 Regrid Tb with bilinear"
   ]
  },
  {
   "cell_type": "raw",
   "id": "371c6a01-8fb9-43d1-915b-b80752962283",
   "metadata": {},
   "source": [
    "ncremap -v tb -a bilinear -g ./grids_481x1440.nc \\\n",
    "./mcstrack_20001020_0530.nc tb-025_20001020_0530.nc"
   ]
  },
  {
   "cell_type": "markdown",
   "id": "7f5f6791-dac5-47dc-991a-38d307e6ad79",
   "metadata": {},
   "source": [
    "### 2.3 Regrid other categorical data with nearest interpolation"
   ]
  },
  {
   "cell_type": "raw",
   "id": "e1147a6b-c11b-4b3a-97dd-b9c1a50ad76b",
   "metadata": {},
   "source": [
    "ncremap -v cloudtracknumber,pcptracknumber,cloudtracknumber_nomergesplit,merge_tracknumbers,split_tracknumbers,cloudnumber,cloudtype \\\n",
    "-a neareststod -g ./grids_481x1440.nc \\\n",
    "./mcstrack_20001020_0530.nc mcs-025_20001020_0530.nc"
   ]
  },
  {
   "cell_type": "markdown",
   "id": "f699bdfb-80a7-43be-a71a-3940796a8586",
   "metadata": {},
   "source": [
    "# 3. Merge all the files into one"
   ]
  },
  {
   "cell_type": "raw",
   "id": "b6c1b2de-9da5-4913-ba3f-1038deffb63f",
   "metadata": {},
   "source": [
    "ncks -A precp-025_20001020_0530.nc tb-025_20001020_0530.nc\n",
    "ncks -A tb-025_20001020_0530.nc mcs-025_20001020_0530.nc\n",
    "\n",
    "# remove some variables\n",
    "ncks -x -v lat_bnds,lon_bnds,gw,area mcs-025_20001020_0530.nc mcs-025_20001020_0530.nc\n",
    "\n",
    "rm -rf  precp-025_20001020_0530.nc tb-025_20001020_0530.nc"
   ]
  }
 ],
 "metadata": {
  "kernelspec": {
   "display_name": "NERSC Python",
   "language": "python",
   "name": "python3"
  },
  "language_info": {
   "codemirror_mode": {
    "name": "ipython",
    "version": 3
   },
   "file_extension": ".py",
   "mimetype": "text/x-python",
   "name": "python",
   "nbconvert_exporter": "python",
   "pygments_lexer": "ipython3",
   "version": "3.7.9"
  }
 },
 "nbformat": 4,
 "nbformat_minor": 5
}
